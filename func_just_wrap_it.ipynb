{
 "cells": [
  {
   "cell_type": "raw",
   "metadata": {},
   "source": [
    "Olá, tudo bom?\n",
    "I'm Thiago Medeiros\n",
    "Brazilian trying to sprachen Deutsch\n",
    "Data Engineer @ Delivery Hero, Berlin"
   ]
  },
  {
   "cell_type": "markdown",
   "metadata": {},
   "source": [
    "#### Hamburg Python Pizza 09/11/2019\n",
    "\n",
    "\n",
    "## Func! Just @wrap it!\n",
    "A wrapping introduction to decorators 😎"
   ]
  },
  {
   "cell_type": "code",
   "execution_count": null,
   "metadata": {},
   "outputs": [],
   "source": [
    "def python_pizza():\n",
    "    print(\"I'm hungry!\")\n",
    "    \n",
    "python_pizza()"
   ]
  },
  {
   "cell_type": "code",
   "execution_count": null,
   "metadata": {},
   "outputs": [],
   "source": [
    "conference = python_pizza\n",
    "conference()"
   ]
  },
  {
   "cell_type": "code",
   "execution_count": null,
   "metadata": {},
   "outputs": [],
   "source": [
    "def hamburg(func):\n",
    "    func()\n",
    "\n",
    "hamburg(python_pizza)"
   ]
  },
  {
   "cell_type": "code",
   "execution_count": null,
   "metadata": {},
   "outputs": [],
   "source": [
    "def conference():\n",
    "    return python_pizza\n",
    "\n",
    "conference()()"
   ]
  },
  {
   "cell_type": "markdown",
   "metadata": {},
   "source": [
    "### Silly 🍔 example 🙈"
   ]
  },
  {
   "cell_type": "code",
   "execution_count": null,
   "metadata": {},
   "outputs": [],
   "source": [
    "def burger():\n",
    "    print(\"(////////)\")  # yes, it's a meat steak"
   ]
  },
  {
   "cell_type": "code",
   "execution_count": null,
   "metadata": {},
   "outputs": [],
   "source": [
    "def bread(func):\n",
    "    def wrapper():\n",
    "        print(\" ,------,  \")\n",
    "        print(\"/_:_:_:__\\ \")  # we have sesame (of course)\n",
    "        print(\"  ~~~~~~   \")  # and special sauce (or bacon)!\n",
    "\n",
    "        func()\n",
    "\n",
    "        print(\",________, \")\n",
    "        print(\"\\ :  : : / \")\n",
    "        print(\" `------'  \")\n",
    "    return wrapper"
   ]
  },
  {
   "cell_type": "code",
   "execution_count": null,
   "metadata": {},
   "outputs": [],
   "source": [
    "burger = bread(burger)\n",
    "burger()"
   ]
  },
  {
   "cell_type": "code",
   "execution_count": null,
   "metadata": {},
   "outputs": [],
   "source": [
    "@bread                   # @bread == burger = bread(burger), tadaaaaaaaaaaaa             \n",
    "def burger():\n",
    "    print(\"(////////)\")  # yes, it's a meat steak\n",
    "\n",
    "burger()"
   ]
  },
  {
   "cell_type": "markdown",
   "metadata": {},
   "source": [
    "### Wait WAAAT!? 🤔🤔"
   ]
  },
  {
   "cell_type": "code",
   "execution_count": null,
   "metadata": {},
   "outputs": [],
   "source": [
    "del bread, burger"
   ]
  },
  {
   "cell_type": "code",
   "execution_count": null,
   "metadata": {},
   "outputs": [],
   "source": [
    "def bread(func):\n",
    "    print(\"2) bread() is executing @decorator!!!\")\n",
    "    def wrapper():\n",
    "        print(\" ,------,  \")\n",
    "        print(\"/_:_:_:__\\ \")  # we have sesame (of course)\n",
    "        print(\"  ~~~~~~   \")  # and special sauce!\n",
    "\n",
    "        print(\"4) func() is \", func.__name__, func)\n",
    "        func()\n",
    "\n",
    "        print(\",________, \")\n",
    "        print(\"\\ :  : : / \")\n",
    "        print(\" `------'  \")\n",
    "    return wrapper\n",
    "\n",
    "print(\"1) bread() is \", bread)\n",
    "\n",
    "@bread\n",
    "def burger():\n",
    "    print(\"(////////)\")  # yes, it's a meat steak\n",
    "    \n",
    "print(\"3) burger() is\", burger.__name__, burger)\n",
    "print(\"\")\n",
    "\n",
    "burger()"
   ]
  },
  {
   "cell_type": "markdown",
   "metadata": {},
   "source": [
    "### Got it?\n",
    "1. Decorators are executed **IMMEDIATELY** when **MODULE IS LOADED**\n",
    "2. Decorators have the power to **REPLACE** the decorated function"
   ]
  },
  {
   "cell_type": "markdown",
   "metadata": {},
   "source": [
    "### Can we do a BIG MAC?"
   ]
  },
  {
   "cell_type": "code",
   "execution_count": null,
   "metadata": {},
   "outputs": [],
   "source": [
    "def bread(func):\n",
    "    def wrapper(qty=1):       # good practices (*args, **kwargs)\n",
    "        print(\" ,------,  \")\n",
    "        print(\"/_:_:_:__\\ \")  # we have sesame (of course)\n",
    "        print(\"  ~~~~~~   \")  # and special sauce!\n",
    "\n",
    "        for _ in range(qty):\n",
    "            func()\n",
    "\n",
    "        print(\",________, \")\n",
    "        print(\"\\ :  : : / \")\n",
    "        print(\" `------'  \")\n",
    "    return wrapper\n",
    "\n",
    "\n",
    "@bread\n",
    "def burger():\n",
    "    print(\"(////////)\")  # yes, it's a meat steak"
   ]
  },
  {
   "cell_type": "code",
   "execution_count": null,
   "metadata": {},
   "outputs": [],
   "source": [
    "burger(2)  # Ich mochte ein Big Mac, bitte!"
   ]
  },
  {
   "cell_type": "markdown",
   "metadata": {},
   "source": [
    "### What about args for the decorator?"
   ]
  },
  {
   "cell_type": "markdown",
   "metadata": {},
   "source": [
    "```python\n",
    "# burger = bread(burger)\n",
    "@bread\n",
    "def burger():\n",
    "    pass\n",
    "\n",
    "# burger = sandwich(special=False)(burger)\n",
    "@sandwich(special=False)\n",
    "def burger():\n",
    "    pass\n",
    "```"
   ]
  },
  {
   "cell_type": "code",
   "execution_count": null,
   "metadata": {},
   "outputs": [],
   "source": [
    "def sandwich(special=False):  # decorator factory function\n",
    "    def bread(func):  # decorator function\n",
    "        def wrapper(qty=1):\n",
    "            if special:\n",
    "                !{'cowsay Thanks'}  # run shell cmds on notebooks\n",
    "\n",
    "            print(\" ,------,  \")\n",
    "            print(\"/_:_:_:__\\ \")  # we have sesame (of course)\n",
    "            print(\"  ~~~~~~   \")  # and special sauce!\n",
    "\n",
    "            for _ in range(qty):\n",
    "                func()\n",
    "\n",
    "            print(\",________, \")\n",
    "            print(\"\\ :  : : / \")\n",
    "            print(\" `------'  \")\n",
    "        return wrapper\n",
    "    return bread\n",
    "\n",
    "# @sandwich()\n",
    "def burger():\n",
    "    print(\"(////////)\")  # yes, it's a \"meat\" steak\n",
    "\n",
    "burger = sandwich(special=False)(burger)\n",
    "burger(3)"
   ]
  },
  {
   "cell_type": "code",
   "execution_count": null,
   "metadata": {},
   "outputs": [],
   "source": [
    "@sandwich(special=True)  # make it impossible for me please!\n",
    "def impossible_burger():\n",
    "    print(\"(////////)\")  # yes, it's a \"meat\" steak"
   ]
  },
  {
   "cell_type": "code",
   "execution_count": null,
   "metadata": {},
   "outputs": [],
   "source": [
    "impossible_burger(3)"
   ]
  },
  {
   "cell_type": "markdown",
   "metadata": {},
   "source": [
    "* * *"
   ]
  },
  {
   "cell_type": "markdown",
   "metadata": {},
   "source": [
    "### Do I still have time? ⏰\n",
    "### Python has some decorators in the Standard Library! 🎉"
   ]
  },
  {
   "cell_type": "code",
   "execution_count": null,
   "metadata": {},
   "outputs": [],
   "source": [
    "# LRU - Least Recently Used\n",
    "\n",
    "from functools import lru_cache\n",
    "\n",
    "\n",
    "def fibonacci(n):\n",
    "    print(\"fibonacci(%s) called\" % n)\n",
    "    if n < 2:\n",
    "        return n\n",
    "    return fibonacci(n-2) + fibonacci(n-1)\n",
    "\n",
    "\n",
    "@lru_cache()\n",
    "def fibonacci_lru(n):\n",
    "    print(\"fibonacci(%s) called\" % n)\n",
    "    if n < 2:\n",
    "        return n\n",
    "    return fibonacci_lru(n-2) + fibonacci_lru(n-1)"
   ]
  },
  {
   "cell_type": "code",
   "execution_count": null,
   "metadata": {
    "scrolled": true
   },
   "outputs": [],
   "source": [
    "fibonacci(5)"
   ]
  },
  {
   "cell_type": "code",
   "execution_count": null,
   "metadata": {},
   "outputs": [],
   "source": [
    "fibonacci_lru(5)"
   ]
  },
  {
   "cell_type": "code",
   "execution_count": null,
   "metadata": {},
   "outputs": [],
   "source": [
    "fibonacci_lru(5)"
   ]
  },
  {
   "cell_type": "markdown",
   "metadata": {},
   "source": [
    "* * * "
   ]
  },
  {
   "cell_type": "markdown",
   "metadata": {},
   "source": [
    "**You can find this notebook at:**\n",
    "https://github.com/medeirosthiago/...\n",
    "\n",
    "#### Some references:\n",
    "- https://wiki.python.org/moin/PythonDecorators\n",
    "- https://docs.python.org/3.6/library/functools.html?highlight=lru#functools\n",
    "- https://www.oreilly.com/library/view/fluent-python/9781491946237/\n",
    "- https://www.python.org/dev/peps/pep-0318/#background\n",
    "- https://stackoverflow.com/questions/739654/how-to-make-a-chain-of-function-decorators/1594484#1594484\n",
    "- https://docs.python.org/3/library/functools.html#functools.lru_cache"
   ]
  },
  {
   "cell_type": "markdown",
   "metadata": {},
   "source": [
    "## Dankeschön! 😁"
   ]
  },
  {
   "cell_type": "markdown",
   "metadata": {},
   "source": [
    "### WE ARE <font color='red'>HIRING</font>! COME TALK TO ME, PLEASE! 😎💰🍕"
   ]
  },
  {
   "cell_type": "markdown",
   "metadata": {},
   "source": [
    "![thcau](https://media.giphy.com/media/xT9IgG50Fb7Mi0prBC/giphy.gif)"
   ]
  },
  {
   "cell_type": "markdown",
   "metadata": {},
   "source": [
    "* * *"
   ]
  },
  {
   "cell_type": "markdown",
   "metadata": {},
   "source": [
    "#### Bonus decorator to try at home: singledispatch"
   ]
  },
  {
   "cell_type": "code",
   "execution_count": null,
   "metadata": {},
   "outputs": [],
   "source": [
    "from functools import singledispatch\n",
    "\n",
    "\n",
    "@singledispatch\n",
    "def hamburg_python(pizza):\n",
    "    raise NotImplementedError(\"Unsupported type\")\n",
    "\n",
    "\n",
    "@hamburg_python.register(int)\n",
    "def _(foo):\n",
    "    print(\"Argument type: \", type(foo))\n",
    "    if foo == 22:\n",
    "        print(\"YAY! We have 22 talks!\")\n",
    "    else:\n",
    "        print(\"Not %s! There are 22 talks in this conf, YAY! \" % foo)\n",
    "\n",
    "\n",
    "@hamburg_python.register(str)\n",
    "def _(foo):\n",
    "    print(\"Argument type: \", type(foo))\n",
    "    if foo == 'hawaii':\n",
    "        print(\"This is not pizza!!\")\n",
    "    else:\n",
    "        print(\"Yummy! I love pizza \", foo)\n",
    "\n",
    "\n",
    "@hamburg_python.register(list)\n",
    "def _(foo):\n",
    "    print(\"Argument type: \", type(foo))\n",
    "    print(\"I'm gonna eat just \", *foo)\n",
    "    print(\"slices of pizza ¯\\_(ツ)_/¯\")\n"
   ]
  },
  {
   "cell_type": "code",
   "execution_count": null,
   "metadata": {},
   "outputs": [],
   "source": [
    "hamburg_python(15)"
   ]
  },
  {
   "cell_type": "code",
   "execution_count": null,
   "metadata": {},
   "outputs": [],
   "source": [
    "hamburg_python('hawaii')"
   ]
  },
  {
   "cell_type": "code",
   "execution_count": null,
   "metadata": {},
   "outputs": [],
   "source": [
    "hamburg_python('margherita')"
   ]
  },
  {
   "cell_type": "code",
   "execution_count": null,
   "metadata": {},
   "outputs": [],
   "source": [
    "hamburg_python([1, 2, 3, 10])"
   ]
  },
  {
   "cell_type": "markdown",
   "metadata": {},
   "source": [
    "* * *"
   ]
  }
 ],
 "metadata": {
  "kernelspec": {
   "display_name": "Python 3",
   "language": "python",
   "name": "python3"
  },
  "language_info": {
   "codemirror_mode": {
    "name": "ipython",
    "version": 3
   },
   "file_extension": ".py",
   "mimetype": "text/x-python",
   "name": "python",
   "nbconvert_exporter": "python",
   "pygments_lexer": "ipython3",
   "version": "3.6.7"
  }
 },
 "nbformat": 4,
 "nbformat_minor": 2
}
